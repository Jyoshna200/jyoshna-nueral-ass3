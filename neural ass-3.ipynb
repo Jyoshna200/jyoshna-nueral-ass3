{
 "cells": [
  {
   "cell_type": "code",
   "execution_count": 3,
   "id": "ae9fc2b3",
   "metadata": {},
   "outputs": [
    {
     "name": "stdout",
     "output_type": "stream",
     "text": [
      "9628.333333333334\n",
      "9628.333333333334\n",
      "9628.333333333334\n"
     ]
    }
   ],
   "source": [
    "class Emp:\n",
    "    count=0 \n",
    "    emps=[] \n",
    "    def __init__(self,name,family,salary,dept):\n",
    "        self.name=name\n",
    "        self.family=family\n",
    "        self.salary=salary\n",
    "        self.dept=dept\n",
    "        Emp.count=Emp.count+1 \n",
    "        Emp.emps.append(self) \n",
    "        \n",
    "\n",
    "    def average_salary(self):\n",
    "        return sum(emp.salary for emp in Emp.emps) / Emp.count\n",
    "    \n",
    "class Fulltime_Emp(Emp):\n",
    "        pass\n",
    "emp1 = Emp(\"Jyoshna Yarraguntla\", \"Yarraguntla Family\", 9999, \"CS\")\n",
    "emp2 = Emp(\"Jane Smith\", \"Smith Family\", 8888, \"CS\")\n",
    "full_time_emp = Fulltime_Emp(\"John Doe\", \"Doe Family\", 9998, \"Management\")\n",
    "print(emp1.average_salary())\n",
    "print(emp2.average_salary())\n",
    "print(full_time_emp.average_salary())  \n"
   ]
  },
  {
   "cell_type": "code",
   "execution_count": 4,
   "id": "15e8e964",
   "metadata": {},
   "outputs": [
    {
     "name": "stdout",
     "output_type": "stream",
     "text": [
      "[[ 8.20923257 17.31275075  6.33132799  5.0689668   2.91210173]\n",
      " [ 9.41998103  9.23728782 17.55746007  3.06825426  1.96417563]\n",
      " [ 3.30807907  2.84059672 19.63581772 15.3359931  14.63724424]\n",
      " [18.42559251  1.64686591 15.95293208 14.47347435 19.3666904 ]]\n"
     ]
    },
    {
     "data": {
      "text/plain": [
       "array([[ 8.20923257,  0.        ,  6.33132799,  5.0689668 ,  2.91210173],\n",
       "       [ 9.41998103,  9.23728782,  0.        ,  3.06825426,  1.96417563],\n",
       "       [ 3.30807907,  2.84059672,  0.        , 15.3359931 , 14.63724424],\n",
       "       [18.42559251,  1.64686591, 15.95293208, 14.47347435,  0.        ]])"
      ]
     },
     "execution_count": 4,
     "metadata": {},
     "output_type": "execute_result"
    }
   ],
   "source": [
    "import numpy as np \n",
    "\n",
    "sampl=np.random.uniform(low=1,high=20,size=20) \n",
    "reshape_arr=sampl.reshape((4,5)) \n",
    "print(reshape_arr)\n",
    "np.where(reshape_arr== np.max(reshape_arr, axis=1, keepdims=True), 0, reshape_arr)\n",
    "\n",
    "\n",
    "\n",
    "\n"
   ]
  },
  {
   "cell_type": "code",
   "execution_count": null,
   "id": "053ea33a",
   "metadata": {},
   "outputs": [],
   "source": []
  }
 ],
 "metadata": {
  "kernelspec": {
   "display_name": "Python 3 (ipykernel)",
   "language": "python",
   "name": "python3"
  },
  "language_info": {
   "codemirror_mode": {
    "name": "ipython",
    "version": 3
   },
   "file_extension": ".py",
   "mimetype": "text/x-python",
   "name": "python",
   "nbconvert_exporter": "python",
   "pygments_lexer": "ipython3",
   "version": "3.11.5"
  }
 },
 "nbformat": 4,
 "nbformat_minor": 5
}
